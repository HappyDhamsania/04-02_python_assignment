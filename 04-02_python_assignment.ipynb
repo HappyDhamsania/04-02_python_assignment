{
 "cells": [
  {
   "cell_type": "markdown",
   "id": "b80d4e66-9a6f-419d-9ba3-14c96fa838c7",
   "metadata": {},
   "source": [
    "Q1.Create a python program to sort the given list of tuples based on integer value using a lambda function."
   ]
  },
  {
   "cell_type": "code",
   "execution_count": 3,
   "id": "336653d1-ec8d-4fa8-b0e5-b1cdd94d5194",
   "metadata": {},
   "outputs": [],
   "source": [
    "l= [('Sachin Tendulkar', 34357), ('Ricky Ponting', 27483), ('Jack Kallis', 25534), ('Virat Kohli', 24936)]"
   ]
  },
  {
   "cell_type": "code",
   "execution_count": 13,
   "id": "e9e06685-0866-446a-a3b8-755e6f32b0c0",
   "metadata": {},
   "outputs": [
    {
     "name": "stdout",
     "output_type": "stream",
     "text": [
      "[('Virat Kohli', 24936), ('Jack Kallis', 25534), ('Ricky Ponting', 27483), ('Sachin Tendulkar', 34357)]\n"
     ]
    }
   ],
   "source": [
    "l.sort(key=lambda s:s[1])\n",
    "print(l)"
   ]
  },
  {
   "cell_type": "markdown",
   "id": "7a410c31-fd4c-46a8-85c5-8ad6edd17448",
   "metadata": {},
   "source": [
    "Q2.Write a Python Program to find the squares of all the numbers in the given list of integers using lambda and map functions."
   ]
  },
  {
   "cell_type": "code",
   "execution_count": 15,
   "id": "bb6eb7fe-2d67-4fe9-a496-2fe0e042badb",
   "metadata": {},
   "outputs": [],
   "source": [
    "p=[1, 2, 3, 4, 5, 6, 7, 8, 9, 10]"
   ]
  },
  {
   "cell_type": "code",
   "execution_count": 16,
   "id": "f4a416cb-072f-4c5e-ac97-829c647d336b",
   "metadata": {},
   "outputs": [
    {
     "data": {
      "text/plain": [
       "[1, 4, 9, 16, 25, 36, 49, 64, 81, 100]"
      ]
     },
     "execution_count": 16,
     "metadata": {},
     "output_type": "execute_result"
    }
   ],
   "source": [
    "list(map(lambda x: x**2,p))"
   ]
  },
  {
   "cell_type": "markdown",
   "id": "a7d9215f-900b-41a8-bc36-df01078df2e1",
   "metadata": {},
   "source": [
    "Q3.Write a python program to convert the given list of integers into a tuple of strings. Use map and\n",
    "lambda functions"
   ]
  },
  {
   "cell_type": "code",
   "execution_count": 17,
   "id": "2deabdfe-4522-4e74-aa69-a6cc0a475f41",
   "metadata": {},
   "outputs": [],
   "source": [
    "s=[1, 2, 3, 4, 5, 6, 7, 8, 9, 10]"
   ]
  },
  {
   "cell_type": "code",
   "execution_count": 22,
   "id": "cc397d57-90a4-4d91-ad1c-adae1aaf38e9",
   "metadata": {},
   "outputs": [
    {
     "data": {
      "text/plain": [
       "('1', '2', '3', '4', '5', '6', '7', '8', '9', '10')"
      ]
     },
     "execution_count": 22,
     "metadata": {},
     "output_type": "execute_result"
    }
   ],
   "source": [
    "tuple(map(lambda t: str(t), s))"
   ]
  },
  {
   "cell_type": "markdown",
   "id": "51bccfe8-e6a8-4fc5-af35-52dc3ad58548",
   "metadata": {},
   "source": [
    "Q4.Write a python program using reduce function to compute the product of a list containing numbers\n",
    "from 1 to 25."
   ]
  },
  {
   "cell_type": "code",
   "execution_count": 25,
   "id": "4c262581-f048-484e-8f91-6055b1c17080",
   "metadata": {},
   "outputs": [
    {
     "data": {
      "text/plain": [
       "15511210043330985984000000"
      ]
     },
     "execution_count": 25,
     "metadata": {},
     "output_type": "execute_result"
    }
   ],
   "source": [
    "from functools import reduce\n",
    "k=list(range(1,26))\n",
    "reduce(lambda x,y : x*y,k)"
   ]
  },
  {
   "cell_type": "markdown",
   "id": "baa25a19-52a7-4aaa-9bc1-06db35824161",
   "metadata": {},
   "source": [
    "Q5.Write a python program to filter the numbers in a given list that are divisible by 2 and 3 using the\n",
    "filter function."
   ]
  },
  {
   "cell_type": "code",
   "execution_count": 26,
   "id": "6eaa7f67-0cc6-48cb-98cb-1b5ded20572b",
   "metadata": {},
   "outputs": [],
   "source": [
    "j=[2, 3, 6, 9, 27, 60, 90, 120, 55, 46]"
   ]
  },
  {
   "cell_type": "code",
   "execution_count": 27,
   "id": "dcc8f087-80e5-45a2-8469-740f034e97c3",
   "metadata": {},
   "outputs": [
    {
     "data": {
      "text/plain": [
       "[6, 60, 90, 120]"
      ]
     },
     "execution_count": 27,
     "metadata": {},
     "output_type": "execute_result"
    }
   ],
   "source": [
    "list(filter(lambda x: x%2==0 and x%3==0,j))"
   ]
  },
  {
   "cell_type": "markdown",
   "id": "f4ff168f-4074-4a55-8e64-0a53f8ae67e9",
   "metadata": {},
   "source": [
    "Q6.Write a python program to find palindromes in the given list of strings using lambda and filter\n",
    "function."
   ]
  },
  {
   "cell_type": "code",
   "execution_count": 28,
   "id": "0e3154b9-52ec-40e3-8cc2-d0264a0a010d",
   "metadata": {},
   "outputs": [],
   "source": [
    "v=['python', 'php', 'aba', 'radar', 'level']"
   ]
  },
  {
   "cell_type": "code",
   "execution_count": 30,
   "id": "adc607ba-46fc-42a1-8e49-036ece383011",
   "metadata": {},
   "outputs": [
    {
     "data": {
      "text/plain": [
       "['php', 'aba', 'radar', 'level']"
      ]
     },
     "execution_count": 30,
     "metadata": {},
     "output_type": "execute_result"
    }
   ],
   "source": [
    "list(filter(lambda i: i==i[::-1],v))"
   ]
  }
 ],
 "metadata": {
  "kernelspec": {
   "display_name": "Python 3 (ipykernel)",
   "language": "python",
   "name": "python3"
  },
  "language_info": {
   "codemirror_mode": {
    "name": "ipython",
    "version": 3
   },
   "file_extension": ".py",
   "mimetype": "text/x-python",
   "name": "python",
   "nbconvert_exporter": "python",
   "pygments_lexer": "ipython3",
   "version": "3.10.8"
  }
 },
 "nbformat": 4,
 "nbformat_minor": 5
}
